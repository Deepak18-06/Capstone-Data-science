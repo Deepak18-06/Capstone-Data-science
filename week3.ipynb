{
 "cells": [
  {
   "cell_type": "code",
   "execution_count": 25,
   "metadata": {},
   "outputs": [
    {
     "name": "stdout",
     "output_type": "stream",
     "text": [
      "\n",
      "Postal code\n",
      "\n",
      "Borough\n",
      "\n",
      "Neighborhood\n",
      "\n",
      "\n",
      "\n",
      "\n",
      "Canadian postal codes\n",
      "\n",
      "\n",
      "\n",
      "\n",
      "NL\n",
      "\n",
      "NS\n",
      "\n",
      "PE\n",
      "\n",
      "NB\n",
      "\n",
      "QC\n",
      "\n",
      "ON\n",
      "\n",
      "MB\n",
      "\n",
      "SK\n",
      "\n",
      "AB\n",
      "\n",
      "BC\n",
      "\n",
      "NU/NT\n",
      "\n",
      "YT\n",
      "\n"
     ]
    }
   ],
   "source": [
    "from bs4 import BeautifulSoup\n",
    "import requests\n",
    "source = requests.get('https://en.wikipedia.org/wiki/List_of_postal_codes_of_Canada:_M').text\n",
    "soup = BeautifulSoup(source , 'lxml')\n",
    "#print(soup.prettify())\n",
    "for table in soup.find_all('table'):\n",
    "    #print(table.prettify())\n",
    "    row = table.tr.text\n",
    "    print(row)"
   ]
  },
  {
   "cell_type": "code",
   "execution_count": null,
   "metadata": {
    "collapsed": true
   },
   "outputs": [],
   "source": []
  }
 ],
 "metadata": {
  "kernelspec": {
   "display_name": "Python 3",
   "language": "python",
   "name": "python3"
  },
  "language_info": {
   "codemirror_mode": {
    "name": "ipython",
    "version": 3
   },
   "file_extension": ".py",
   "mimetype": "text/x-python",
   "name": "python",
   "nbconvert_exporter": "python",
   "pygments_lexer": "ipython3",
   "version": "3.6.3"
  }
 },
 "nbformat": 4,
 "nbformat_minor": 2
}
